{
 "cells": [
  {
   "cell_type": "markdown",
   "metadata": {
    "id": "Kxa_ahBvg6gz"
   },
   "source": [
    "Run in public colab: https://colab.sandbox.google.com/ (not https://colab.corp.google.com/). Should work in both python 2 and 3 and also in Cloud AI platform\n",
    "notebooks.\n"
   ]
  },
  {
   "cell_type": "code",
   "execution_count": null,
   "metadata": {
    "id": "C5Q_rWhaGkzy"
   },
   "outputs": [],
   "source": []
  },
  {
   "cell_type": "code",
   "execution_count": null,
   "metadata": {
    "id": "19F5htJ9SxGV"
   },
   "outputs": [],
   "source": [
    "try:\n",
    "  from google.colab import auth\n",
    "  auth.authenticate_user()  \n",
    "except ImportError:\n",
    "  pass"
   ]
  },
  {
   "cell_type": "code",
   "execution_count": null,
   "metadata": {
    "id": "1N6alxijTDDG"
   },
   "outputs": [],
   "source": [
    "from google.cloud import _http\n",
    "from google.cloud.client import ClientWithProject\n",
    "from xml.etree import ElementTree as ET\n",
    "from IPython.display import HTML\n",
    "import pprint"
   ]
  },
  {
   "cell_type": "code",
   "execution_count": null,
   "metadata": {
    "id": "0QH-IlRITLS7"
   },
   "outputs": [],
   "source": [
    "class Connection(_http.JSONConnection):\n",
    "  \"\"\"Handles HTTP requests to GCP.\"\"\"\n",
    "  API_BASE_URL = 'https://healthcare.googleapis.com'\n",
    "  API_VERSION = 'v1beta1'\n",
    "  API_URL_TEMPLATE = '{api_base_url}/{api_version}/projects{path}'\n",
    "\n",
    "\n",
    "class Client(ClientWithProject):\n",
    "  \"\"\"A client for accessing Cloud Healthcare NLP API.\n",
    "\n",
    "  Args:\n",
    "      project (Union[str, None]): The ID of the project\n",
    "      region (str): The region the project resides in, e.g. us-central1,\n",
    "  \"\"\"\n",
    "\n",
    "  def __init__(self,\n",
    "               project=None,\n",
    "               region='us-central1',\n",
    "               credentials=None,\n",
    "               http=None):\n",
    "    self.region = region\n",
    "    self.SCOPE = ('https://www.googleapis.com/auth/cloud-healthcare',)\n",
    "    super(Client, self).__init__(project=project)\n",
    "    self.path = '/{}/locations/{}/services/nlp'.format(self.project,\n",
    "                                                       self.region)\n",
    "    self._connection = Connection(self)\n",
    "\n",
    "  def analyze_entities(self, document):\n",
    "    \"\"\" Analyze the clinical entities a document with the Google Cloud\n",
    "\n",
    "      Healthcare NLP API.\n",
    "\n",
    "      Args:\n",
    "        document (str): the medical document to analyze.\n",
    "\n",
    "      Returns:\n",
    "        Dict[str, Any]: the JSON response.\n",
    "      \"\"\"\n",
    "    return self._connection.api_request(\n",
    "        'POST',\n",
    "        self.path + ':analyzeEntities',\n",
    "        data={'document_content': document})"
   ]
  },
  {
   "cell_type": "code",
   "execution_count": null,
   "metadata": {
    "id": "PVbb7EA9TW0X"
   },
   "outputs": [],
   "source": [
    "# @title String fields\n",
    "project_id = ''  #@param {type:\"string\"}"
   ]
  },
  {
   "cell_type": "code",
   "execution_count": null,
   "metadata": {
    "id": "WTTYcn1NXfkM"
   },
   "outputs": [],
   "source": [
    "client = Client(project=project_id)"
   ]
  },
  {
   "cell_type": "code",
   "execution_count": null,
   "metadata": {
    "id": "OrE_0hCkUaYJ"
   },
   "outputs": [],
   "source": [
    "# @title String fields\n",
    "document = 'H. pylori DNA Analysis 3 Diagnostic Solutions laboratory 877-485-5336 Patient: Ima Sample Collected: 2/10/2018 DOB: 7/11/1981 Accession: 20180212-0001 Received: 2/12/2018 Completed: 2/12/2018 Ordered by: Diane Farhi, MD H. pylori Result Normal 2.9e3 High <1.0 e3 Helicobacter pylori Virulence Factor , babA Positive Positive Virulence Factor , cagA Virulence Factor , dupa Virulence Factor, iceA Negative Negative Negative Negative Negative Negative Negative Negative Negative Negative Negative Negative Positive Positive Virulence Factor , oipA Virulence Factor , vacA Virulence Factor , virB Virulence Factor , virD Antibiotic Resistance Genes, phenotypes Helicobacter Result Clarithromycin Positive Expected Result Absent A21420 Absent A2142G Absent A2143G Present Fluoroquinolones Negative Absent gyrA N87K Absent gyrA D91N Absent gyrA D91G Absent Absent Absent gyrB S479N Tetracycline gyrB R484K Positive Absent PBP1A S414R Present PBP1A T556S Absent PBP1A N562Y Absent Amoxicillin Negative Absent A926G Absent AGA926-928TTC Absent The assays were developed and the perfomance characteristics determined by Diagnostic Solutions Laboratory. CLIA# 11D-2097795 Medical Director - Diane Farhi, MD 1'"
   ]
  },
  {
   "cell_type": "code",
   "execution_count": null,
   "metadata": {
    "id": "dlATsrpIe89R"
   },
   "outputs": [],
   "source": [
    "response = client.analyze_entities(document)"
   ]
  },
  {
   "cell_type": "code",
   "execution_count": null,
   "metadata": {
    "id": "r3muKNqiYtU8"
   },
   "outputs": [],
   "source": [
    "def draw_response(doc, resp):\n",
    "  \"\"\"Creates an HTML summary of the AnalyzeEntities response.\n",
    "\n",
    "    Args:\n",
    "        doc (str): the document that was analyzed.\n",
    "        resp (Dict[str, Any]): the JSON response.\n",
    "    Return:\n",
    "        (str): An HTML summary of the response\n",
    "  \"\"\"\n",
    "  html = ET.Element('html')\n",
    "  ET.SubElement(\n",
    "      html, 'style').text = ('.entity_span { color: blue; font-weight: bold; }')\n",
    "  body = ET.SubElement(html, 'body')\n",
    "\n",
    "  # Format entity mentions (including linked entities in hover-text)\n",
    "  start = 0\n",
    "  id_to_text = {}\n",
    "  for entity_mention in resp.get('entityMentions', []):\n",
    "    begin = entity_mention['text'].get('beginOffset', 0)\n",
    "    text = entity_mention['text'].get('content', '')\n",
    "    id_to_text[entity_mention['mentionId']] = text\n",
    "    ET.SubElement(body, 'span').text = doc[start:begin]\n",
    "    ET.SubElement(\n",
    "        body,\n",
    "        'span',\n",
    "        attrib={\n",
    "            'class': 'entity_span',\n",
    "            'title': pprint.pformat(entity_mention).replace(\"'\", '')\n",
    "        }).text = text\n",
    "    start = begin + len(text)\n",
    "  ET.SubElement(body, 'span').text = document[start:]\n",
    "\n",
    "  # Format relationships\n",
    "  ET.SubElement(body, 'hr')\n",
    "  rel_list = ET.SubElement(body, 'ul')\n",
    "  for rel in sorted(resp.get('relationships', []),\n",
    "                    key = lambda i: (int(i['subjectId']),int(i['objectId']))):\n",
    "    subj_id = rel['subjectId']\n",
    "    obj_id = rel['objectId']\n",
    "    conf = rel['confidence']\n",
    "    ET.SubElement(\n",
    "        rel_list,\n",
    "        'li').text = ('({}) {} -> ({}) {} [confidence = {:.2f}]'.format(\n",
    "            subj_id, id_to_text[subj_id], obj_id, id_to_text[obj_id], conf))\n",
    "\n",
    "  return ET.tostring(html, 'utf-8').decode()"
   ]
  },
  {
   "cell_type": "code",
   "execution_count": null,
   "metadata": {
    "colab": {
     "base_uri": "https://localhost:8080/",
     "height": 176
    },
    "id": "rCVuOaTgYG0_",
    "outputId": "04de6146-bef4-49a5-d92d-0f3fabcf6c9b"
   },
   "outputs": [
    {
     "data": {
      "text/html": [
       "<html><style>.entity_span { color: blue; font-weight: bold; }</style><body><span /><span class=\"entity_span\" title=\"{certaintyAssessment: {confidence: 0.9944270253181458, value: LIKELY},&#10; confidence: 0.9817241430282593,&#10; linkedEntities: [{entityId: UMLS/C0200898},&#10;                    {entityId: UMLS/C0012854}],&#10; mentionId: 1,&#10; subject: {confidence: 0.9999959468841553, value: PATIENT},&#10; temporalAssessment: {confidence: 0.965747594833374, value: CURRENT},&#10; text: {content: H. pylori DNA Analysis},&#10; type: LABORATORY_DATA}\">H. pylori DNA Analysis</span><span> </span><span class=\"entity_span\" title=\"{confidence: 0.46979087591171265,&#10; linkedEntities: [{entityId: UMLS/C2981702},&#10;                    {entityId: UMLS/C5201106},&#10;                    {entityId: UMLS/C2827736},&#10;                    {entityId: UMLS/C5401434},&#10;                    {entityId: UMLS/C3838680}],&#10; mentionId: 2,&#10; text: {beginOffset: 23, content: 3},&#10; type: LAB_VALUE}\">3</span><span> Diagnostic Solutions </span><span class=\"entity_span\" title=\"{certaintyAssessment: {confidence: 0.9987712502479553, value: LIKELY},&#10; confidence: 0.835623025894165,&#10; mentionId: 3,&#10; subject: {confidence: 0.9993059039115906, value: PATIENT},&#10; temporalAssessment: {confidence: 0.9810647964477539, value: CURRENT},&#10; text: {beginOffset: 46, content: laboratory},&#10; type: LABORATORY_DATA}\">laboratory</span><span> 877-485-5336 Patient: </span><span class=\"entity_span\" title=\"{certaintyAssessment: {confidence: 0.9922468662261963, value: LIKELY},&#10; confidence: 0.7583832144737244,&#10; mentionId: 4,&#10; subject: {confidence: 0.9993249177932739, value: PATIENT},&#10; temporalAssessment: {confidence: 0.989952802658081, value: CURRENT},&#10; text: {beginOffset: 79, content: Ima},&#10; type: PROBLEM}\">Ima</span><span> Sample Collected: 2/10/2018 DOB: 7/11/1981 Accession: 20180212-0001 Received: 2/12/2018 Completed: 2/12/2018 Ordered by: Diane Farhi, MD </span><span class=\"entity_span\" title=\"{certaintyAssessment: {confidence: 0.9992516040802002, value: LIKELY},&#10; confidence: 0.688851535320282,&#10; mentionId: 5,&#10; subject: {confidence: 0.9999842643737793, value: PATIENT},&#10; temporalAssessment: {confidence: 0.8583284616470337, value: CURRENT},&#10; text: {beginOffset: 220, content: H. pylori},&#10; type: LABORATORY_DATA}\">H. pylori</span><span> Result </span><span class=\"entity_span\" title=\"{certaintyAssessment: {confidence: 0.8768215179443359, value: LIKELY},&#10; confidence: 0.7806971073150635,&#10; linkedEntities: [{entityId: UMLS/C1873497}],&#10; mentionId: 6,&#10; subject: {value: PATIENT},&#10; temporalAssessment: {confidence: 0.7776011228561401, value: CURRENT},&#10; text: {beginOffset: 237, content: Normal},&#10; type: LAB_RESULT}\">Normal</span><span> 2.9e3 High &lt;1.0 e3 </span><span class=\"entity_span\" title=\"{certaintyAssessment: {confidence: 0.9996147751808167, value: LIKELY},&#10; confidence: 0.9645005464553833,&#10; linkedEntities: [{entityId: UMLS/C0079488},&#10;                    {entityId: UMLS/C0374997},&#10;                    {entityId: UMLS/C0085508}],&#10; mentionId: 7,&#10; subject: {confidence: 0.9999964237213135, value: PATIENT},&#10; temporalAssessment: {confidence: 0.9999470710754395, value: CURRENT},&#10; text: {beginOffset: 263, content: Helicobacter pylori Virulence},&#10; type: PROBLEM}\">Helicobacter pylori Virulence</span><span> Factor , </span><span class=\"entity_span\" title=\"{certaintyAssessment: {confidence: 0.999515950679779, value: LIKELY},&#10; confidence: 0.4690518379211426,&#10; mentionId: 8,&#10; subject: {confidence: 0.9998044967651367, value: PATIENT},&#10; temporalAssessment: {confidence: 0.9994969367980957, value: CURRENT},&#10; text: {beginOffset: 302, content: babA},&#10; type: LABORATORY_DATA}\">babA</span><span> Positive Positive </span><span class=\"entity_span\" title=\"{certaintyAssessment: {confidence: 0.9991073608398438, value: LIKELY},&#10; confidence: 0.8922351002693176,&#10; mentionId: 9,&#10; subject: {confidence: 0.9999935030937195, value: PATIENT},&#10; temporalAssessment: {confidence: 0.9992643594741821, value: CURRENT},&#10; text: {beginOffset: 325, content: Virulence},&#10; type: PROBLEM}\">Virulence</span><span> Factor , </span><span class=\"entity_span\" title=\"{confidence: 0.7600548267364502,&#10; mentionId: 10,&#10; text: {beginOffset: 344, content: cagA},&#10; type: ANATOMICAL_STRUCTURE}\">cagA</span><span> </span><span class=\"entity_span\" title=\"{certaintyAssessment: {confidence: 0.9963265657424927, value: LIKELY},&#10; confidence: 0.9651392102241516,&#10; mentionId: 11,&#10; subject: {confidence: 0.9928213357925415, value: PATIENT},&#10; temporalAssessment: {confidence: 0.9792389869689941, value: CURRENT},&#10; text: {beginOffset: 349, content: Virulence},&#10; type: PROBLEM}\">Virulence</span><span> Factor , </span><span class=\"entity_span\" title=\"{certaintyAssessment: {confidence: 0.9999202489852905, value: LIKELY},&#10; confidence: 0.5148741602897644,&#10; mentionId: 12,&#10; subject: {confidence: 0.9996688365936279, value: PATIENT},&#10; temporalAssessment: {confidence: 0.9964795112609863, value: CURRENT},&#10; text: {beginOffset: 368, content: dupa Virulence},&#10; type: PROBLEM}\">dupa Virulence</span><span> Factor, </span><span class=\"entity_span\" title=\"{confidence: 0.5000524520874023,&#10; mentionId: 13,&#10; text: {beginOffset: 391, content: iceA},&#10; type: ANATOMICAL_STRUCTURE}\">iceA</span><span> Negative Negative Negative Negative Negative Negative Negative Negative Negative Negative Negative Negative Positive Positive </span><span class=\"entity_span\" title=\"{certaintyAssessment: {confidence: 0.9985250234603882, value: LIKELY},&#10; confidence: 0.9553127288818359,&#10; mentionId: 14,&#10; subject: {confidence: 0.9996576905250549, value: PATIENT},&#10; temporalAssessment: {confidence: 0.9960147142410278, value: CURRENT},&#10; text: {beginOffset: 522, content: Virulence},&#10; type: PROBLEM}\">Virulence</span><span> Factor , </span><span class=\"entity_span\" title=\"{confidence: 0.8427109718322754,&#10; mentionId: 15,&#10; text: {beginOffset: 541, content: oipA},&#10; type: ANATOMICAL_STRUCTURE}\">oipA</span><span> </span><span class=\"entity_span\" title=\"{certaintyAssessment: {confidence: 0.9929643869400024, value: LIKELY},&#10; confidence: 0.9886956214904785,&#10; mentionId: 16,&#10; subject: {confidence: 0.9572963714599609, value: PATIENT},&#10; temporalAssessment: {confidence: 0.9676373600959778, value: CURRENT},&#10; text: {beginOffset: 546, content: Virulence},&#10; type: PROBLEM}\">Virulence</span><span> Factor , </span><span class=\"entity_span\" title=\"{certaintyAssessment: {confidence: 0.9999977946281433, value: LIKELY},&#10; confidence: 0.6636789441108704,&#10; linkedEntities: [{entityId: UMLS/C0077966}],&#10; mentionId: 17,&#10; subject: {confidence: 0.9999834299087524, value: PATIENT},&#10; temporalAssessment: {confidence: 0.9880509972572327, value: CURRENT},&#10; text: {beginOffset: 565, content: vacA Virulence},&#10; type: PROBLEM}\">vacA Virulence</span><span> Factor , </span><span class=\"entity_span\" title=\"{certaintyAssessment: {confidence: 0.9999996423721313, value: LIKELY},&#10; confidence: 0.7104336619377136,&#10; mentionId: 18,&#10; subject: {confidence: 0.9999944567680359, value: PATIENT},&#10; temporalAssessment: {confidence: 0.998503565788269, value: CURRENT},&#10; text: {beginOffset: 589, content: virB Virulence},&#10; type: PROBLEM}\">virB Virulence</span><span> Factor , virD Antibiotic Resistance Genes, phenotypes </span><span class=\"entity_span\" title=\"{certaintyAssessment: {confidence: 0.9999686479568481, value: LIKELY},&#10; confidence: 0.42882704734802246,&#10; mentionId: 19,&#10; subject: {confidence: 0.999579668045044, value: PATIENT},&#10; temporalAssessment: {confidence: 0.9881388545036316, value: CURRENT},&#10; text: {beginOffset: 658, content: Helicobacter},&#10; type: LABORATORY_DATA}\">Helicobacter</span><span> Result </span><span class=\"entity_span\" title=\"{certaintyAssessment: {confidence: 0.9992252588272095, value: LIKELY},&#10; confidence: 0.9929724335670471,&#10; linkedEntities: [{entityId: UMLS/C0055856}],&#10; mentionId: 20,&#10; subject: {confidence: 0.9999992847442627, value: PATIENT},&#10; temporalAssessment: {confidence: 0.979015588760376, value: CURRENT},&#10; text: {beginOffset: 678, content: Clarithromycin},&#10; type: MEDICINE}\">Clarithromycin</span><span> Positive Expected Result Absent A21420 Absent A2142G Absent A2143G Present </span><span class=\"entity_span\" title=\"{certaintyAssessment: {confidence: 0.8246874809265137, value: LIKELY},&#10; confidence: 0.4955856502056122,&#10; linkedEntities: [{entityId: UMLS/C0949665}],&#10; mentionId: 21,&#10; subject: {confidence: 1, value: PATIENT},&#10; temporalAssessment: {confidence: 0.9965459108352661, value: CURRENT},&#10; text: {beginOffset: 768, content: Fluoroquinolones},&#10; type: LABORATORY_DATA}\">Fluoroquinolones</span><span> </span><span class=\"entity_span\" title=\"{certaintyAssessment: {confidence: 0.996938169002533, value: LIKELY},&#10; confidence: 0.7887924313545227,&#10; linkedEntities: [{entityId: UMLS/C0205160},&#10;                    {entityId: UMLS/C1513916},&#10;                    {entityId: UMLS/C5237010}],&#10; mentionId: 22,&#10; subject: {value: PATIENT},&#10; temporalAssessment: {confidence: 0.9978903532028198, value: CURRENT},&#10; text: {beginOffset: 785, content: Negative},&#10; type: LAB_RESULT}\">Negative</span><span> Absent </span><span class=\"entity_span\" title=\"{confidence: 0.5029735565185547,&#10; mentionId: 23,&#10; text: {beginOffset: 801, content: gyrA},&#10; type: ANATOMICAL_STRUCTURE}\">gyrA</span><span> N87K Absent </span><span class=\"entity_span\" title=\"{certaintyAssessment: {value: LIKELY},&#10; confidence: 0.4376630187034607,&#10; mentionId: 24,&#10; subject: {value: PATIENT},&#10; temporalAssessment: {value: CURRENT},&#10; text: {beginOffset: 818, content: gyrA},&#10; type: MEDICAL_DEVICE}\">gyrA</span><span> D91N Absent </span><span class=\"entity_span\" title=\"{certaintyAssessment: {value: LIKELY},&#10; confidence: 0.49533048272132874,&#10; mentionId: 25,&#10; subject: {confidence: 0.7013266682624817, value: PATIENT},&#10; temporalAssessment: {value: CURRENT},&#10; text: {beginOffset: 835, content: gyrA},&#10; type: MEDICAL_DEVICE}\">gyrA</span><span> D91G Absent Absent Absent </span><span class=\"entity_span\" title=\"{confidence: 0.3881914019584656,&#10; mentionId: 26,&#10; text: {beginOffset: 866, content: gyrB},&#10; type: ANATOMICAL_STRUCTURE}\">gyrB</span><span> S479N </span><span class=\"entity_span\" title=\"{certaintyAssessment: {confidence: 0.9959896802902222, value: LIKELY},&#10; confidence: 0.9912442564964294,&#10; linkedEntities: [{entityId: UMLS/C0039644},&#10;                    {entityId: UMLS/C1744619}],&#10; mentionId: 27,&#10; subject: {confidence: 0.9999993443489075, value: PATIENT},&#10; temporalAssessment: {confidence: 0.7264192700386047, value: CURRENT},&#10; text: {beginOffset: 877, content: Tetracycline},&#10; type: MEDICINE}\">Tetracycline</span><span> </span><span class=\"entity_span\" title=\"{confidence: 0.5515865683555603,&#10; mentionId: 28,&#10; text: {beginOffset: 890, content: gyrB},&#10; type: MED_FORM}\">gyrB</span><span> R484K Positive Absent </span><span class=\"entity_span\" title=\"{certaintyAssessment: {confidence: 0.9998809099197388, value: LIKELY},&#10; confidence: 0.753452479839325,&#10; mentionId: 29,&#10; subject: {confidence: 0.9999994039535522, value: PATIENT},&#10; temporalAssessment: {confidence: 0.9934646487236023, value: CURRENT},&#10; text: {beginOffset: 917, content: PBP1A},&#10; type: LABORATORY_DATA}\">PBP1A</span><span> S414R Present PBP1A T556S Absent PBP1A N562Y Absent </span><span class=\"entity_span\" title=\"{certaintyAssessment: {confidence: 0.9841846227645874, value: UNLIKELY},&#10; confidence: 0.9994324445724487,&#10; linkedEntities: [{entityId: UMLS/C0002645}],&#10; mentionId: 30,&#10; subject: {confidence: 0.999998927116394, value: PATIENT},&#10; temporalAssessment: {confidence: 0.5418362021446228, value: CURRENT},&#10; text: {beginOffset: 975, content: Amoxicillin},&#10; type: MEDICINE}\">Amoxicillin</span><span> </span><span class=\"entity_span\" title=\"{certaintyAssessment: {confidence: 0.9996036291122437, value: LIKELY},&#10; confidence: 0.5717160701751709,&#10; linkedEntities: [{entityId: UMLS/C0205160},&#10;                    {entityId: UMLS/C1513916},&#10;                    {entityId: UMLS/C5237010}],&#10; mentionId: 31,&#10; subject: {value: PATIENT},&#10; temporalAssessment: {confidence: 0.9996516704559326, value: CURRENT},&#10; text: {beginOffset: 987, content: Negative},&#10; type: LAB_RESULT}\">Negative</span><span> Absent A926G Absent AGA926-928TTC Absent The </span><span class=\"entity_span\" title=\"{certaintyAssessment: {confidence: 0.9993273019790649, value: LIKELY},&#10; confidence: 0.47716024518013,&#10; linkedEntities: [{entityId: UMLS/C0005507},&#10;                    {entityId: UMLS/C1510438}],&#10; mentionId: 32,&#10; subject: {confidence: 0.9998568892478943, value: PATIENT},&#10; temporalAssessment: {confidence: 0.9850178956985474, value: CURRENT},&#10; text: {beginOffset: 1041, content: assays},&#10; type: LABORATORY_DATA}\">assays</span><span> were developed and the perfomance characteristics determined by Diagnostic Solutions Laboratory. CLIA# 11D-2097795 Medical Director - Diane Farhi, MD 1</span><hr /><ul><li>(5) H. pylori -&gt; (6) Normal [confidence = 0.63]</li><li>(21) Fluoroquinolones -&gt; (22) Negative [confidence = 1.00]</li><li>(27) Tetracycline -&gt; (28) gyrB [confidence = 1.00]</li></ul></body></html>"
      ],
      "text/plain": [
       "<IPython.core.display.HTML object>"
      ]
     },
     "execution_count": 9,
     "metadata": {
      "tags": []
     },
     "output_type": "execute_result"
    }
   ],
   "source": [
    "HTML(draw_response(document, response))"
   ]
  },
  {
   "cell_type": "markdown",
   "metadata": {
    "id": "nsGEKGEjNuho"
   },
   "source": [
    "# New Section"
   ]
  },
  {
   "cell_type": "code",
   "execution_count": null,
   "metadata": {
    "id": "HDxzD8jAcuqN"
   },
   "outputs": [],
   "source": []
  },
  {
   "cell_type": "code",
   "execution_count": null,
   "metadata": {
    "id": "JIJX_6LBcu9d"
   },
   "outputs": [],
   "source": []
  },
  {
   "cell_type": "markdown",
   "metadata": {
    "id": "ql8jQdYVcvsB"
   },
   "source": []
  },
  {
   "cell_type": "code",
   "execution_count": null,
   "metadata": {
    "colab": {
     "base_uri": "https://localhost:8080/",
     "height": 164
    },
    "id": "D_xh2qUqUyr1",
    "outputId": "cbf64f7b-d5df-41ee-dc5e-164a4760edda"
   },
   "outputs": [
    {
     "ename": "NameError",
     "evalue": "ignored",
     "output_type": "error",
     "traceback": [
      "\u001b[0;31m---------------------------------------------------------------------------\u001b[0m",
      "\u001b[0;31mNameError\u001b[0m                                 Traceback (most recent call last)",
      "\u001b[0;32m<ipython-input-1-020474cbcf03>\u001b[0m in \u001b[0;36m<module>\u001b[0;34m()\u001b[0m\n\u001b[0;32m----> 1\u001b[0;31m \u001b[0mpprint\u001b[0m\u001b[0;34m.\u001b[0m\u001b[0mpprint\u001b[0m\u001b[0;34m(\u001b[0m\u001b[0mresponse\u001b[0m\u001b[0;34m)\u001b[0m\u001b[0;34m\u001b[0m\u001b[0;34m\u001b[0m\u001b[0m\n\u001b[0m",
      "\u001b[0;31mNameError\u001b[0m: name 'pprint' is not defined"
     ]
    }
   ],
   "source": [
    "pprint.pprint(response)"
   ]
  }
 ],
 "metadata": {
  "colab": {
   "collapsed_sections": [],
   "name": "Healthcare Natural Language API",
   "provenance": []
  },
  "environment": {
   "name": "common-cpu.m71",
   "type": "gcloud",
   "uri": "gcr.io/deeplearning-platform-release/base-cpu:m71"
  },
  "kernelspec": {
   "display_name": "Python 3",
   "language": "python",
   "name": "python3"
  },
  "language_info": {
   "codemirror_mode": {
    "name": "ipython",
    "version": 3
   },
   "file_extension": ".py",
   "mimetype": "text/x-python",
   "name": "python",
   "nbconvert_exporter": "python",
   "pygments_lexer": "ipython3",
   "version": "3.7.10"
  }
 },
 "nbformat": 4,
 "nbformat_minor": 4
}
